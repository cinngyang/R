{
 "cells": [
  {
   "cell_type": "markdown",
   "metadata": {},
   "source": [
    "探索式資料分析方式\n",
    "資料收集 -> 資料清理 -> 資料分析 -> 特徵值萃取<-> 資料視覺化<->  建立模型 <-> 模型驗證-> 決策應用"
   ]
  },
  {
   "cell_type": "markdown",
   "metadata": {},
   "source": [
    "基礎\n",
    "資料輸出輸入\n",
    "資料型態 datafram"
   ]
  },
  {
   "cell_type": "code",
   "execution_count": 31,
   "metadata": {},
   "outputs": [
    {
     "data": {
      "text/html": [
       "<table>\n",
       "<thead><tr><th scope=col>City</th><th scope=col>lat</th><th scope=col>lon</th></tr></thead>\n",
       "<tbody>\n",
       "\t<tr><td>Amsterdam</td><td>52.37022 </td><td>4.895168 </td></tr>\n",
       "</tbody>\n",
       "</table>\n"
      ],
      "text/latex": [
       "\\begin{tabular}{r|lll}\n",
       " City & lat & lon\\\\\n",
       "\\hline\n",
       "\t Amsterdam & 52.37022  & 4.895168 \\\\\n",
       "\\end{tabular}\n"
      ],
      "text/markdown": [
       "\n",
       "City | lat | lon | \n",
       "|---|\n",
       "| Amsterdam | 52.37022  | 4.895168  | \n",
       "\n",
       "\n"
      ],
      "text/plain": [
       "  City      lat      lon     \n",
       "1 Amsterdam 52.37022 4.895168"
      ]
     },
     "metadata": {},
     "output_type": "display_data"
    }
   ],
   "source": [
    "City<-read.table(file='clipboard',sep='\\t',header=T)\n",
    "write.csv(City,file='./Ciity.csv')"
   ]
  },
  {
   "cell_type": "code",
   "execution_count": 42,
   "metadata": {},
   "outputs": [
    {
     "data": {
      "text/html": [
       "<table>\n",
       "<thead><tr><th scope=col>X</th><th scope=col>City</th><th scope=col>lat</th><th scope=col>lon</th></tr></thead>\n",
       "<tbody>\n",
       "\t<tr><td>1         </td><td>Amsterdam </td><td>52.37022  </td><td>  4.895168</td></tr>\n",
       "\t<tr><td>2         </td><td>Atlanta   </td><td>33.74900  </td><td>-84.387982</td></tr>\n",
       "\t<tr><td>3         </td><td>Bangkok   </td><td>13.75633  </td><td>100.501765</td></tr>\n",
       "\t<tr><td>4         </td><td>Beijing   </td><td>39.90420  </td><td>116.407396</td></tr>\n",
       "\t<tr><td>5         </td><td>Bombay    </td><td>19.07598  </td><td> 72.877656</td></tr>\n",
       "</tbody>\n",
       "</table>\n"
      ],
      "text/latex": [
       "\\begin{tabular}{r|llll}\n",
       " X & City & lat & lon\\\\\n",
       "\\hline\n",
       "\t 1          & Amsterdam  & 52.37022   &   4.895168\\\\\n",
       "\t 2          & Atlanta    & 33.74900   & -84.387982\\\\\n",
       "\t 3          & Bangkok    & 13.75633   & 100.501765\\\\\n",
       "\t 4          & Beijing    & 39.90420   & 116.407396\\\\\n",
       "\t 5          & Bombay     & 19.07598   &  72.877656\\\\\n",
       "\\end{tabular}\n"
      ],
      "text/markdown": [
       "\n",
       "X | City | lat | lon | \n",
       "|---|---|---|---|---|\n",
       "| 1          | Amsterdam  | 52.37022   |   4.895168 | \n",
       "| 2          | Atlanta    | 33.74900   | -84.387982 | \n",
       "| 3          | Bangkok    | 13.75633   | 100.501765 | \n",
       "| 4          | Beijing    | 39.90420   | 116.407396 | \n",
       "| 5          | Bombay     | 19.07598   |  72.877656 | \n",
       "\n",
       "\n"
      ],
      "text/plain": [
       "  X City      lat      lon       \n",
       "1 1 Amsterdam 52.37022   4.895168\n",
       "2 2 Atlanta   33.74900 -84.387982\n",
       "3 3 Bangkok   13.75633 100.501765\n",
       "4 4 Beijing   39.90420 116.407396\n",
       "5 5 Bombay    19.07598  72.877656"
      ]
     },
     "metadata": {},
     "output_type": "display_data"
    }
   ],
   "source": [
    "City<-read.csv(file='./Ciity.csv',header=T)"
   ]
  },
  {
   "cell_type": "code",
   "execution_count": 43,
   "metadata": {},
   "outputs": [
    {
     "data": {
      "text/html": [
       "<ol class=list-inline>\n",
       "\t<li>1</li>\n",
       "\t<li>2</li>\n",
       "\t<li>3</li>\n",
       "\t<li>4</li>\n",
       "\t<li>5</li>\n",
       "\t<li>6</li>\n",
       "\t<li>7</li>\n",
       "\t<li>8</li>\n",
       "\t<li>9</li>\n",
       "\t<li>10</li>\n",
       "\t<li>11</li>\n",
       "\t<li>12</li>\n",
       "\t<li>13</li>\n",
       "\t<li>14</li>\n",
       "\t<li>15</li>\n",
       "\t<li>16</li>\n",
       "\t<li>17</li>\n",
       "\t<li>18</li>\n",
       "\t<li>19</li>\n",
       "\t<li>20</li>\n",
       "\t<li>21</li>\n",
       "\t<li>22</li>\n",
       "\t<li>23</li>\n",
       "\t<li>24</li>\n",
       "\t<li>25</li>\n",
       "\t<li>26</li>\n",
       "\t<li>27</li>\n",
       "\t<li>28</li>\n",
       "\t<li>29</li>\n",
       "\t<li>30</li>\n",
       "\t<li>31</li>\n",
       "\t<li>32</li>\n",
       "\t<li>33</li>\n",
       "\t<li>34</li>\n",
       "\t<li>35</li>\n",
       "\t<li>36</li>\n",
       "\t<li>37</li>\n",
       "\t<li>38</li>\n",
       "\t<li>39</li>\n",
       "\t<li>40</li>\n",
       "\t<li>41</li>\n",
       "\t<li>42</li>\n",
       "\t<li>43</li>\n",
       "\t<li>44</li>\n",
       "\t<li>45</li>\n",
       "\t<li>46</li>\n",
       "\t<li>47</li>\n",
       "\t<li>48</li>\n",
       "\t<li>49</li>\n",
       "\t<li>50</li>\n",
       "\t<li>51</li>\n",
       "\t<li>52</li>\n",
       "\t<li>53</li>\n",
       "\t<li>54</li>\n",
       "\t<li>55</li>\n",
       "\t<li>56</li>\n",
       "\t<li>57</li>\n",
       "\t<li>58</li>\n",
       "\t<li>59</li>\n",
       "</ol>\n"
      ],
      "text/latex": [
       "\\begin{enumerate*}\n",
       "\\item 1\n",
       "\\item 2\n",
       "\\item 3\n",
       "\\item 4\n",
       "\\item 5\n",
       "\\item 6\n",
       "\\item 7\n",
       "\\item 8\n",
       "\\item 9\n",
       "\\item 10\n",
       "\\item 11\n",
       "\\item 12\n",
       "\\item 13\n",
       "\\item 14\n",
       "\\item 15\n",
       "\\item 16\n",
       "\\item 17\n",
       "\\item 18\n",
       "\\item 19\n",
       "\\item 20\n",
       "\\item 21\n",
       "\\item 22\n",
       "\\item 23\n",
       "\\item 24\n",
       "\\item 25\n",
       "\\item 26\n",
       "\\item 27\n",
       "\\item 28\n",
       "\\item 29\n",
       "\\item 30\n",
       "\\item 31\n",
       "\\item 32\n",
       "\\item 33\n",
       "\\item 34\n",
       "\\item 35\n",
       "\\item 36\n",
       "\\item 37\n",
       "\\item 38\n",
       "\\item 39\n",
       "\\item 40\n",
       "\\item 41\n",
       "\\item 42\n",
       "\\item 43\n",
       "\\item 44\n",
       "\\item 45\n",
       "\\item 46\n",
       "\\item 47\n",
       "\\item 48\n",
       "\\item 49\n",
       "\\item 50\n",
       "\\item 51\n",
       "\\item 52\n",
       "\\item 53\n",
       "\\item 54\n",
       "\\item 55\n",
       "\\item 56\n",
       "\\item 57\n",
       "\\item 58\n",
       "\\item 59\n",
       "\\end{enumerate*}\n"
      ],
      "text/markdown": [
       "1. 1\n",
       "2. 2\n",
       "3. 3\n",
       "4. 4\n",
       "5. 5\n",
       "6. 6\n",
       "7. 7\n",
       "8. 8\n",
       "9. 9\n",
       "10. 10\n",
       "11. 11\n",
       "12. 12\n",
       "13. 13\n",
       "14. 14\n",
       "15. 15\n",
       "16. 16\n",
       "17. 17\n",
       "18. 18\n",
       "19. 19\n",
       "20. 20\n",
       "21. 21\n",
       "22. 22\n",
       "23. 23\n",
       "24. 24\n",
       "25. 25\n",
       "26. 26\n",
       "27. 27\n",
       "28. 28\n",
       "29. 29\n",
       "30. 30\n",
       "31. 31\n",
       "32. 32\n",
       "33. 33\n",
       "34. 34\n",
       "35. 35\n",
       "36. 36\n",
       "37. 37\n",
       "38. 38\n",
       "39. 39\n",
       "40. 40\n",
       "41. 41\n",
       "42. 42\n",
       "43. 43\n",
       "44. 44\n",
       "45. 45\n",
       "46. 46\n",
       "47. 47\n",
       "48. 48\n",
       "49. 49\n",
       "50. 50\n",
       "51. 51\n",
       "52. 52\n",
       "53. 53\n",
       "54. 54\n",
       "55. 55\n",
       "56. 56\n",
       "57. 57\n",
       "58. 58\n",
       "59. 59\n",
       "\n",
       "\n"
      ],
      "text/plain": [
       " [1]  1  2  3  4  5  6  7  8  9 10 11 12 13 14 15 16 17 18 19 20 21 22 23 24 25\n",
       "[26] 26 27 28 29 30 31 32 33 34 35 36 37 38 39 40 41 42 43 44 45 46 47 48 49 50\n",
       "[51] 51 52 53 54 55 56 57 58 59"
      ]
     },
     "metadata": {},
     "output_type": "display_data"
    },
    {
     "data": {
      "text/html": [
       "<table>\n",
       "<thead><tr><th scope=col>X</th><th scope=col>City</th><th scope=col>lat</th><th scope=col>lon</th></tr></thead>\n",
       "<tbody>\n",
       "\t<tr><td>1        </td><td>Amsterdam</td><td>52.37022 </td><td>4.895168 </td></tr>\n",
       "</tbody>\n",
       "</table>\n"
      ],
      "text/latex": [
       "\\begin{tabular}{r|llll}\n",
       " X & City & lat & lon\\\\\n",
       "\\hline\n",
       "\t 1         & Amsterdam & 52.37022  & 4.895168 \\\\\n",
       "\\end{tabular}\n"
      ],
      "text/markdown": [
       "\n",
       "X | City | lat | lon | \n",
       "|---|\n",
       "| 1         | Amsterdam | 52.37022  | 4.895168  | \n",
       "\n",
       "\n"
      ],
      "text/plain": [
       "  X City      lat      lon     \n",
       "1 1 Amsterdam 52.37022 4.895168"
      ]
     },
     "metadata": {},
     "output_type": "display_data"
    },
    {
     "data": {
      "text/html": [
       "<table>\n",
       "<thead><tr><th scope=col>X</th><th scope=col>City</th><th scope=col>lat</th><th scope=col>lon</th></tr></thead>\n",
       "<tbody>\n",
       "\t<tr><td>1         </td><td>Amsterdam </td><td>52.37022  </td><td>  4.895168</td></tr>\n",
       "\t<tr><td>2         </td><td>Atlanta   </td><td>33.74900  </td><td>-84.387982</td></tr>\n",
       "\t<tr><td>3         </td><td>Bangkok   </td><td>13.75633  </td><td>100.501765</td></tr>\n",
       "\t<tr><td>4         </td><td>Beijing   </td><td>39.90420  </td><td>116.407396</td></tr>\n",
       "\t<tr><td>5         </td><td>Bombay    </td><td>19.07598  </td><td> 72.877656</td></tr>\n",
       "</tbody>\n",
       "</table>\n"
      ],
      "text/latex": [
       "\\begin{tabular}{r|llll}\n",
       " X & City & lat & lon\\\\\n",
       "\\hline\n",
       "\t 1          & Amsterdam  & 52.37022   &   4.895168\\\\\n",
       "\t 2          & Atlanta    & 33.74900   & -84.387982\\\\\n",
       "\t 3          & Bangkok    & 13.75633   & 100.501765\\\\\n",
       "\t 4          & Beijing    & 39.90420   & 116.407396\\\\\n",
       "\t 5          & Bombay     & 19.07598   &  72.877656\\\\\n",
       "\\end{tabular}\n"
      ],
      "text/markdown": [
       "\n",
       "X | City | lat | lon | \n",
       "|---|---|---|---|---|\n",
       "| 1          | Amsterdam  | 52.37022   |   4.895168 | \n",
       "| 2          | Atlanta    | 33.74900   | -84.387982 | \n",
       "| 3          | Bangkok    | 13.75633   | 100.501765 | \n",
       "| 4          | Beijing    | 39.90420   | 116.407396 | \n",
       "| 5          | Bombay     | 19.07598   |  72.877656 | \n",
       "\n",
       "\n"
      ],
      "text/plain": [
       "  X City      lat      lon       \n",
       "1 1 Amsterdam 52.37022   4.895168\n",
       "2 2 Atlanta   33.74900 -84.387982\n",
       "3 3 Bangkok   13.75633 100.501765\n",
       "4 4 Beijing   39.90420 116.407396\n",
       "5 5 Bombay    19.07598  72.877656"
      ]
     },
     "metadata": {},
     "output_type": "display_data"
    }
   ],
   "source": [
    "City[,1]\n",
    "City[1,]\n",
    "City[1:5,]"
   ]
  },
  {
   "cell_type": "code",
   "execution_count": 34,
   "metadata": {},
   "outputs": [
    {
     "data": {
      "text/html": [
       "'data.frame'"
      ],
      "text/latex": [
       "'data.frame'"
      ],
      "text/markdown": [
       "'data.frame'"
      ],
      "text/plain": [
       "[1] \"data.frame\""
      ]
     },
     "metadata": {},
     "output_type": "display_data"
    },
    {
     "name": "stdout",
     "output_type": "stream",
     "text": [
      "'data.frame':\t59 obs. of  3 variables:\n",
      " $ City: Factor w/ 59 levels \"Amsterdam\",\"Atlanta\",..: 1 2 3 4 5 6 7 8 9 10 ...\n",
      " $ lat : num  52.4 33.7 13.8 39.9 19.1 ...\n",
      " $ lon : num  4.9 -84.4 100.5 116.4 72.9 ...\n"
     ]
    },
    {
     "data": {
      "text/html": [
       "<table>\n",
       "<thead><tr><th scope=col>City</th><th scope=col>lat</th><th scope=col>lon</th></tr></thead>\n",
       "<tbody>\n",
       "\t<tr><td>Amsterdam </td><td>52.37022  </td><td>  4.895168</td></tr>\n",
       "\t<tr><td>Atlanta   </td><td>33.74900  </td><td>-84.387982</td></tr>\n",
       "\t<tr><td>Bangkok   </td><td>13.75633  </td><td>100.501765</td></tr>\n",
       "\t<tr><td>Beijing   </td><td>39.90420  </td><td>116.407396</td></tr>\n",
       "\t<tr><td>Bombay    </td><td>19.07598  </td><td> 72.877656</td></tr>\n",
       "\t<tr><td>Changsha  </td><td>28.22821  </td><td>112.938814</td></tr>\n",
       "</tbody>\n",
       "</table>\n"
      ],
      "text/latex": [
       "\\begin{tabular}{r|lll}\n",
       " City & lat & lon\\\\\n",
       "\\hline\n",
       "\t Amsterdam  & 52.37022   &   4.895168\\\\\n",
       "\t Atlanta    & 33.74900   & -84.387982\\\\\n",
       "\t Bangkok    & 13.75633   & 100.501765\\\\\n",
       "\t Beijing    & 39.90420   & 116.407396\\\\\n",
       "\t Bombay     & 19.07598   &  72.877656\\\\\n",
       "\t Changsha   & 28.22821   & 112.938814\\\\\n",
       "\\end{tabular}\n"
      ],
      "text/markdown": [
       "\n",
       "City | lat | lon | \n",
       "|---|---|---|---|---|---|\n",
       "| Amsterdam  | 52.37022   |   4.895168 | \n",
       "| Atlanta    | 33.74900   | -84.387982 | \n",
       "| Bangkok    | 13.75633   | 100.501765 | \n",
       "| Beijing    | 39.90420   | 116.407396 | \n",
       "| Bombay     | 19.07598   |  72.877656 | \n",
       "| Changsha   | 28.22821   | 112.938814 | \n",
       "\n",
       "\n"
      ],
      "text/plain": [
       "  City      lat      lon       \n",
       "1 Amsterdam 52.37022   4.895168\n",
       "2 Atlanta   33.74900 -84.387982\n",
       "3 Bangkok   13.75633 100.501765\n",
       "4 Beijing   39.90420 116.407396\n",
       "5 Bombay    19.07598  72.877656\n",
       "6 Changsha  28.22821 112.938814"
      ]
     },
     "metadata": {},
     "output_type": "display_data"
    }
   ],
   "source": [
    "class(City)\n",
    "str(City)\n",
    "head(City)"
   ]
  },
  {
   "cell_type": "code",
   "execution_count": 29,
   "metadata": {},
   "outputs": [
    {
     "data": {
      "text/html": [
       "<ol class=list-inline>\n",
       "\t<li>'City'</li>\n",
       "\t<li>'lat'</li>\n",
       "\t<li>'lon'</li>\n",
       "</ol>\n"
      ],
      "text/latex": [
       "\\begin{enumerate*}\n",
       "\\item 'City'\n",
       "\\item 'lat'\n",
       "\\item 'lon'\n",
       "\\end{enumerate*}\n"
      ],
      "text/markdown": [
       "1. 'City'\n",
       "2. 'lat'\n",
       "3. 'lon'\n",
       "\n",
       "\n"
      ],
      "text/plain": [
       "[1] \"City\" \"lat\"  \"lon\" "
      ]
     },
     "metadata": {},
     "output_type": "display_data"
    },
    {
     "data": {
      "text/html": [
       "59"
      ],
      "text/latex": [
       "59"
      ],
      "text/markdown": [
       "59"
      ],
      "text/plain": [
       "[1] 59"
      ]
     },
     "metadata": {},
     "output_type": "display_data"
    },
    {
     "data": {
      "text/html": [
       "<ol class=list-inline>\n",
       "\t<li>'Amsterdam'</li>\n",
       "\t<li>'Atlanta'</li>\n",
       "\t<li>'Bangkok'</li>\n",
       "\t<li>'Beijing '</li>\n",
       "\t<li>'Bombay'</li>\n",
       "\t<li>'Changsha'</li>\n",
       "\t<li>'ChengTu'</li>\n",
       "\t<li>'Chicago'</li>\n",
       "\t<li>'Chongqing'</li>\n",
       "\t<li>'Chuzhou'</li>\n",
       "\t<li>'Cleveland'</li>\n",
       "\t<li>'Foochow'</li>\n",
       "\t<li>'Frankfurt'</li>\n",
       "\t<li>'Guangzhou'</li>\n",
       "\t<li>'HangChow'</li>\n",
       "\t<li>'Hefei'</li>\n",
       "\t<li>'Hongkong'</li>\n",
       "\t<li>'Houston'</li>\n",
       "\t<li>'India'</li>\n",
       "\t<li>'Jakarta'</li>\n",
       "\t<li>'Kaoshiung'</li>\n",
       "\t<li>'Kuala Lumpur'</li>\n",
       "\t<li>'Las Vegas'</li>\n",
       "\t<li>'London'</li>\n",
       "\t<li>'Los Angeles'</li>\n",
       "\t<li>'Macau'</li>\n",
       "\t<li>'Manila'</li>\n",
       "\t<li>'Milan'</li>\n",
       "\t<li>'Muechen'</li>\n",
       "\t<li>'Nagoya'</li>\n",
       "\t<li>'Nanking'</li>\n",
       "\t<li>'New York'</li>\n",
       "\t<li>'Ningbo'</li>\n",
       "\t<li>'Osaka'</li>\n",
       "\t<li>'Penang'</li>\n",
       "\t<li>'Philadelphia'</li>\n",
       "\t<li>'Pusan'</li>\n",
       "\t<li>'Saigon'</li>\n",
       "\t<li>'San Francisco'</li>\n",
       "\t<li>'Seoul'</li>\n",
       "\t<li>'Shanghai'</li>\n",
       "\t<li>'Shengzhen'</li>\n",
       "\t<li>'Singapore'</li>\n",
       "\t<li>'Suzhou'</li>\n",
       "\t<li>'Swatow'</li>\n",
       "\t<li>'Taichung'</li>\n",
       "\t<li>'Taipei'</li>\n",
       "\t<li>'Taoyuan'</li>\n",
       "\t<li>'Tianjin'</li>\n",
       "\t<li>'Tokyo'</li>\n",
       "\t<li>'TsingTao'</li>\n",
       "\t<li>'Wuhan'</li>\n",
       "\t<li>'Wuxi'</li>\n",
       "\t<li>'Xiamen'</li>\n",
       "\t<li>'Xian'</li>\n",
       "\t<li>'Zhuhai'</li>\n",
       "\t<li>'Zurich'</li>\n",
       "\t<li>'南昌市'</li>\n",
       "\t<li>'贛洲'</li>\n",
       "</ol>\n"
      ],
      "text/latex": [
       "\\begin{enumerate*}\n",
       "\\item 'Amsterdam'\n",
       "\\item 'Atlanta'\n",
       "\\item 'Bangkok'\n",
       "\\item 'Beijing '\n",
       "\\item 'Bombay'\n",
       "\\item 'Changsha'\n",
       "\\item 'ChengTu'\n",
       "\\item 'Chicago'\n",
       "\\item 'Chongqing'\n",
       "\\item 'Chuzhou'\n",
       "\\item 'Cleveland'\n",
       "\\item 'Foochow'\n",
       "\\item 'Frankfurt'\n",
       "\\item 'Guangzhou'\n",
       "\\item 'HangChow'\n",
       "\\item 'Hefei'\n",
       "\\item 'Hongkong'\n",
       "\\item 'Houston'\n",
       "\\item 'India'\n",
       "\\item 'Jakarta'\n",
       "\\item 'Kaoshiung'\n",
       "\\item 'Kuala Lumpur'\n",
       "\\item 'Las Vegas'\n",
       "\\item 'London'\n",
       "\\item 'Los Angeles'\n",
       "\\item 'Macau'\n",
       "\\item 'Manila'\n",
       "\\item 'Milan'\n",
       "\\item 'Muechen'\n",
       "\\item 'Nagoya'\n",
       "\\item 'Nanking'\n",
       "\\item 'New York'\n",
       "\\item 'Ningbo'\n",
       "\\item 'Osaka'\n",
       "\\item 'Penang'\n",
       "\\item 'Philadelphia'\n",
       "\\item 'Pusan'\n",
       "\\item 'Saigon'\n",
       "\\item 'San Francisco'\n",
       "\\item 'Seoul'\n",
       "\\item 'Shanghai'\n",
       "\\item 'Shengzhen'\n",
       "\\item 'Singapore'\n",
       "\\item 'Suzhou'\n",
       "\\item 'Swatow'\n",
       "\\item 'Taichung'\n",
       "\\item 'Taipei'\n",
       "\\item 'Taoyuan'\n",
       "\\item 'Tianjin'\n",
       "\\item 'Tokyo'\n",
       "\\item 'TsingTao'\n",
       "\\item 'Wuhan'\n",
       "\\item 'Wuxi'\n",
       "\\item 'Xiamen'\n",
       "\\item 'Xian'\n",
       "\\item 'Zhuhai'\n",
       "\\item 'Zurich'\n",
       "\\item '南昌市'\n",
       "\\item '贛洲'\n",
       "\\end{enumerate*}\n"
      ],
      "text/markdown": [
       "1. 'Amsterdam'\n",
       "2. 'Atlanta'\n",
       "3. 'Bangkok'\n",
       "4. 'Beijing '\n",
       "5. 'Bombay'\n",
       "6. 'Changsha'\n",
       "7. 'ChengTu'\n",
       "8. 'Chicago'\n",
       "9. 'Chongqing'\n",
       "10. 'Chuzhou'\n",
       "11. 'Cleveland'\n",
       "12. 'Foochow'\n",
       "13. 'Frankfurt'\n",
       "14. 'Guangzhou'\n",
       "15. 'HangChow'\n",
       "16. 'Hefei'\n",
       "17. 'Hongkong'\n",
       "18. 'Houston'\n",
       "19. 'India'\n",
       "20. 'Jakarta'\n",
       "21. 'Kaoshiung'\n",
       "22. 'Kuala Lumpur'\n",
       "23. 'Las Vegas'\n",
       "24. 'London'\n",
       "25. 'Los Angeles'\n",
       "26. 'Macau'\n",
       "27. 'Manila'\n",
       "28. 'Milan'\n",
       "29. 'Muechen'\n",
       "30. 'Nagoya'\n",
       "31. 'Nanking'\n",
       "32. 'New York'\n",
       "33. 'Ningbo'\n",
       "34. 'Osaka'\n",
       "35. 'Penang'\n",
       "36. 'Philadelphia'\n",
       "37. 'Pusan'\n",
       "38. 'Saigon'\n",
       "39. 'San Francisco'\n",
       "40. 'Seoul'\n",
       "41. 'Shanghai'\n",
       "42. 'Shengzhen'\n",
       "43. 'Singapore'\n",
       "44. 'Suzhou'\n",
       "45. 'Swatow'\n",
       "46. 'Taichung'\n",
       "47. 'Taipei'\n",
       "48. 'Taoyuan'\n",
       "49. 'Tianjin'\n",
       "50. 'Tokyo'\n",
       "51. 'TsingTao'\n",
       "52. 'Wuhan'\n",
       "53. 'Wuxi'\n",
       "54. 'Xiamen'\n",
       "55. 'Xian'\n",
       "56. 'Zhuhai'\n",
       "57. 'Zurich'\n",
       "58. '南昌市'\n",
       "59. '贛洲'\n",
       "\n",
       "\n"
      ],
      "text/plain": [
       " [1] \"Amsterdam\"     \"Atlanta\"       \"Bangkok\"       \"Beijing \"     \n",
       " [5] \"Bombay\"        \"Changsha\"      \"ChengTu\"       \"Chicago\"      \n",
       " [9] \"Chongqing\"     \"Chuzhou\"       \"Cleveland\"     \"Foochow\"      \n",
       "[13] \"Frankfurt\"     \"Guangzhou\"     \"HangChow\"      \"Hefei\"        \n",
       "[17] \"Hongkong\"      \"Houston\"       \"India\"         \"Jakarta\"      \n",
       "[21] \"Kaoshiung\"     \"Kuala Lumpur\"  \"Las Vegas\"     \"London\"       \n",
       "[25] \"Los Angeles\"   \"Macau\"         \"Manila\"        \"Milan\"        \n",
       "[29] \"Muechen\"       \"Nagoya\"        \"Nanking\"       \"New York\"     \n",
       "[33] \"Ningbo\"        \"Osaka\"         \"Penang\"        \"Philadelphia\" \n",
       "[37] \"Pusan\"         \"Saigon\"        \"San Francisco\" \"Seoul\"        \n",
       "[41] \"Shanghai\"      \"Shengzhen\"     \"Singapore\"     \"Suzhou\"       \n",
       "[45] \"Swatow\"        \"Taichung\"      \"Taipei\"        \"Taoyuan\"      \n",
       "[49] \"Tianjin\"       \"Tokyo\"         \"TsingTao\"      \"Wuhan\"        \n",
       "[53] \"Wuxi\"          \"Xiamen\"        \"Xian\"          \"Zhuhai\"       \n",
       "[57] \"Zurich\"        \"南昌市\"        \"贛洲\"         "
      ]
     },
     "metadata": {},
     "output_type": "display_data"
    }
   ],
   "source": [
    "colnames(City)\n",
    "length(levels(City$City))\n",
    "levels(City$City)"
   ]
  },
  {
   "cell_type": "markdown",
   "metadata": {},
   "source": [
    "畫各圖先窄入幾個 package\n",
    "dplyr 資料處理\n",
    "ggplot2 & ggmp 畫圖"
   ]
  },
  {
   "cell_type": "code",
   "execution_count": 44,
   "metadata": {},
   "outputs": [],
   "source": [
    "library(dplyr)\n",
    "library(ggplot2)\n",
    "library(ggmap)"
   ]
  },
  {
   "cell_type": "code",
   "execution_count": 45,
   "metadata": {},
   "outputs": [
    {
     "data": {},
     "metadata": {},
     "output_type": "display_data"
    },
    {
     "data": {
      "image/png": "[encoded data removed]",
      "text/plain": [
       "plot without title"
      ]
     },
     "metadata": {},
     "output_type": "display_data"
    }
   ],
   "source": [
    "mp <- NULL\n",
    "mapWorld <- borders(\"world\", colour=\"gray50\", fill=\"gray50\") # create a layer of borders\n",
    "mp <- ggplot() +   mapWorld\n",
    "mp"
   ]
  },
  {
   "cell_type": "code",
   "execution_count": 47,
   "metadata": {},
   "outputs": [
    {
     "data": {},
     "metadata": {},
     "output_type": "display_data"
    },
    {
     "data": {
      "image/png": "[encoded data removed]",
      "text/plain": [
       "plot without title"
      ]
     },
     "metadata": {},
     "output_type": "display_data"
    }
   ],
   "source": [
    "mp <- mp+ geom_point(data=City, aes(x=lon, y=lat) ,color=\"blue\", size=3)\n",
    "mp"
   ]
  },
  {
   "cell_type": "code",
   "execution_count": null,
   "metadata": {},
   "outputs": [],
   "source": []
  }
 ],
 "metadata": {
  "kernelspec": {
   "display_name": "R",
   "language": "R",
   "name": "ir"
  },
  "language_info": {
   "codemirror_mode": "r",
   "file_extension": ".r",
   "mimetype": "text/x-r-source",
   "name": "R",
   "pygments_lexer": "r",
   "version": "3.4.3"
  }
 },
 "nbformat": 4,
 "nbformat_minor": 2
}
