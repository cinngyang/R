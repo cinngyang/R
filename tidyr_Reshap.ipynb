{
 "cells": [
  {
   "cell_type": "markdown",
   "metadata": {},
   "source": [
    "這是一個常見的資料處理技巧,很常見"
   ]
  },
  {
   "cell_type": "code",
   "execution_count": 5,
   "metadata": {},
   "outputs": [],
   "source": [
    "library(tidyr)"
   ]
  },
  {
   "cell_type": "code",
   "execution_count": 2,
   "metadata": {},
   "outputs": [],
   "source": [
    "dtBOM<-read.table(file='clipboard',sep='\\t',header = T)"
   ]
  },
  {
   "cell_type": "code",
   "execution_count": 3,
   "metadata": {},
   "outputs": [
    {
     "data": {
      "text/html": [
       "<table>\n",
       "<thead><tr><th scope=col>RootAssemble</th><th scope=col>Assemble</th><th scope=col>ItemCategory</th><th scope=col>Item</th></tr></thead>\n",
       "<tbody>\n",
       "\t<tr><td>95001</td><td>50   </td><td>PA   </td><td>4201 </td></tr>\n",
       "\t<tr><td>95001</td><td>50   </td><td>PB   </td><td>4202 </td></tr>\n",
       "\t<tr><td>95001</td><td>50   </td><td>GA   </td><td>4301 </td></tr>\n",
       "\t<tr><td>95001</td><td>50   </td><td>GB   </td><td>4301 </td></tr>\n",
       "\t<tr><td>95001</td><td>50   </td><td>LF   </td><td>4101 </td></tr>\n",
       "\t<tr><td>95001</td><td>50   </td><td>CH   </td><td>4001 </td></tr>\n",
       "</tbody>\n",
       "</table>\n"
      ],
      "text/latex": [
       "\\begin{tabular}{r|llll}\n",
       " RootAssemble & Assemble & ItemCategory & Item\\\\\n",
       "\\hline\n",
       "\t 95001 & 50    & PA    & 4201 \\\\\n",
       "\t 95001 & 50    & PB    & 4202 \\\\\n",
       "\t 95001 & 50    & GA    & 4301 \\\\\n",
       "\t 95001 & 50    & GB    & 4301 \\\\\n",
       "\t 95001 & 50    & LF    & 4101 \\\\\n",
       "\t 95001 & 50    & CH    & 4001 \\\\\n",
       "\\end{tabular}\n"
      ],
      "text/markdown": [
       "\n",
       "RootAssemble | Assemble | ItemCategory | Item | \n",
       "|---|---|---|---|---|---|\n",
       "| 95001 | 50    | PA    | 4201  | \n",
       "| 95001 | 50    | PB    | 4202  | \n",
       "| 95001 | 50    | GA    | 4301  | \n",
       "| 95001 | 50    | GB    | 4301  | \n",
       "| 95001 | 50    | LF    | 4101  | \n",
       "| 95001 | 50    | CH    | 4001  | \n",
       "\n",
       "\n"
      ],
      "text/plain": [
       "  RootAssemble Assemble ItemCategory Item\n",
       "1 95001        50       PA           4201\n",
       "2 95001        50       PB           4202\n",
       "3 95001        50       GA           4301\n",
       "4 95001        50       GB           4301\n",
       "5 95001        50       LF           4101\n",
       "6 95001        50       CH           4001"
      ]
     },
     "metadata": {},
     "output_type": "display_data"
    }
   ],
   "source": [
    "head(dtBOM)"
   ]
  },
  {
   "cell_type": "code",
   "execution_count": 4,
   "metadata": {},
   "outputs": [
    {
     "data": {
      "text/html": [
       "<table>\n",
       "<thead><tr><th scope=col>RootAssemble</th><th scope=col>Assemble</th><th scope=col>CH</th><th scope=col>GA</th><th scope=col>GB</th><th scope=col>LF</th><th scope=col>PA</th><th scope=col>PB</th></tr></thead>\n",
       "<tbody>\n",
       "\t<tr><td>95001</td><td>50   </td><td>4001 </td><td>4301 </td><td>4301 </td><td>4101 </td><td>4201 </td><td>4202 </td></tr>\n",
       "\t<tr><td>95002</td><td>50   </td><td>4000 </td><td>4301 </td><td>4304 </td><td>41C1 </td><td>4201 </td><td>4203 </td></tr>\n",
       "</tbody>\n",
       "</table>\n"
      ],
      "text/latex": [
       "\\begin{tabular}{r|llllllll}\n",
       " RootAssemble & Assemble & CH & GA & GB & LF & PA & PB\\\\\n",
       "\\hline\n",
       "\t 95001 & 50    & 4001  & 4301  & 4301  & 4101  & 4201  & 4202 \\\\\n",
       "\t 95002 & 50    & 4000  & 4301  & 4304  & 41C1  & 4201  & 4203 \\\\\n",
       "\\end{tabular}\n"
      ],
      "text/markdown": [
       "\n",
       "RootAssemble | Assemble | CH | GA | GB | LF | PA | PB | \n",
       "|---|---|\n",
       "| 95001 | 50    | 4001  | 4301  | 4301  | 4101  | 4201  | 4202  | \n",
       "| 95002 | 50    | 4000  | 4301  | 4304  | 41C1  | 4201  | 4203  | \n",
       "\n",
       "\n"
      ],
      "text/plain": [
       "  RootAssemble Assemble CH   GA   GB   LF   PA   PB  \n",
       "1 95001        50       4001 4301 4301 4101 4201 4202\n",
       "2 95002        50       4000 4301 4304 41C1 4201 4203"
      ]
     },
     "metadata": {},
     "output_type": "display_data"
    }
   ],
   "source": [
    "spread(dtBOM,ItemCategory,Item)"
   ]
  },
  {
   "cell_type": "code",
   "execution_count": null,
   "metadata": {},
   "outputs": [],
   "source": []
  }
 ],
 "metadata": {
  "kernelspec": {
   "display_name": "R",
   "language": "R",
   "name": "ir"
  },
  "language_info": {
   "codemirror_mode": "r",
   "file_extension": ".r",
   "mimetype": "text/x-r-source",
   "name": "R",
   "pygments_lexer": "r",
   "version": "3.4.1"
  }
 },
 "nbformat": 4,
 "nbformat_minor": 2
}
