{
 "cells": [
  {
   "cell_type": "markdown",
   "metadata": {},
   "source": [
    "reshap2<br>\n",
    "conda 環境安裝 R package<br>\n",
    "conda install -c conda-forge r-reshape2 <br>\n",
    "https://www.rforexcelusers.com/make-pivottable-in-r/<br>"
   ]
  },
  {
   "cell_type": "code",
   "execution_count": 4,
   "metadata": {},
   "outputs": [],
   "source": [
    "library(reshape2)"
   ]
  },
  {
   "cell_type": "code",
   "execution_count": 6,
   "metadata": {},
   "outputs": [
    {
     "data": {
      "text/html": [
       "<table>\n",
       "<thead><tr><th scope=col>time</th><th scope=col>ID</th><th scope=col>price</th><th scope=col>volume</th></tr></thead>\n",
       "<tbody>\n",
       "\t<tr><td>2016-08-04 10:46:41</td><td>TXF                </td><td>8026               </td><td>3                  </td></tr>\n",
       "\t<tr><td>2016-08-04 10:46:41</td><td>MXF                </td><td>8028               </td><td>3                  </td></tr>\n",
       "\t<tr><td>2016-08-04 10:46:41</td><td>EXF                </td><td> 326               </td><td>2                  </td></tr>\n",
       "\t<tr><td>2016-08-04 10:46:41</td><td>FXF                </td><td>1024               </td><td>4                  </td></tr>\n",
       "\t<tr><td>2016-08-04 10:46:42</td><td>TXF                </td><td>8026               </td><td>4                  </td></tr>\n",
       "\t<tr><td>2016-08-04 10:46:42</td><td>MXF                </td><td>8026               </td><td>3                  </td></tr>\n",
       "\t<tr><td>2016-08-04 10:46:42</td><td>EXF                </td><td> 323               </td><td>3                  </td></tr>\n",
       "\t<tr><td>2016-08-04 10:46:42</td><td>FXF                </td><td>1027               </td><td>3                  </td></tr>\n",
       "\t<tr><td>2016-08-04 10:46:43</td><td>TXF                </td><td>8028               </td><td>4                  </td></tr>\n",
       "\t<tr><td>2016-08-04 10:46:43</td><td>MXF                </td><td>8032               </td><td>5                  </td></tr>\n",
       "\t<tr><td>2016-08-04 10:46:43</td><td>EXF                </td><td> 319               </td><td>4                  </td></tr>\n",
       "\t<tr><td>2016-08-04 10:46:43</td><td>FXF                </td><td>1025               </td><td>4                  </td></tr>\n",
       "</tbody>\n",
       "</table>\n"
      ],
      "text/latex": [
       "\\begin{tabular}{r|llll}\n",
       " time & ID & price & volume\\\\\n",
       "\\hline\n",
       "\t 2016-08-04 10:46:41 & TXF                 & 8026                & 3                  \\\\\n",
       "\t 2016-08-04 10:46:41 & MXF                 & 8028                & 3                  \\\\\n",
       "\t 2016-08-04 10:46:41 & EXF                 &  326                & 2                  \\\\\n",
       "\t 2016-08-04 10:46:41 & FXF                 & 1024                & 4                  \\\\\n",
       "\t 2016-08-04 10:46:42 & TXF                 & 8026                & 4                  \\\\\n",
       "\t 2016-08-04 10:46:42 & MXF                 & 8026                & 3                  \\\\\n",
       "\t 2016-08-04 10:46:42 & EXF                 &  323                & 3                  \\\\\n",
       "\t 2016-08-04 10:46:42 & FXF                 & 1027                & 3                  \\\\\n",
       "\t 2016-08-04 10:46:43 & TXF                 & 8028                & 4                  \\\\\n",
       "\t 2016-08-04 10:46:43 & MXF                 & 8032                & 5                  \\\\\n",
       "\t 2016-08-04 10:46:43 & EXF                 &  319                & 4                  \\\\\n",
       "\t 2016-08-04 10:46:43 & FXF                 & 1025                & 4                  \\\\\n",
       "\\end{tabular}\n"
      ],
      "text/markdown": [
       "\n",
       "time | ID | price | volume | \n",
       "|---|---|---|---|---|---|---|---|---|---|---|---|\n",
       "| 2016-08-04 10:46:41 | TXF                 | 8026                | 3                   | \n",
       "| 2016-08-04 10:46:41 | MXF                 | 8028                | 3                   | \n",
       "| 2016-08-04 10:46:41 | EXF                 |  326                | 2                   | \n",
       "| 2016-08-04 10:46:41 | FXF                 | 1024                | 4                   | \n",
       "| 2016-08-04 10:46:42 | TXF                 | 8026                | 4                   | \n",
       "| 2016-08-04 10:46:42 | MXF                 | 8026                | 3                   | \n",
       "| 2016-08-04 10:46:42 | EXF                 |  323                | 3                   | \n",
       "| 2016-08-04 10:46:42 | FXF                 | 1027                | 3                   | \n",
       "| 2016-08-04 10:46:43 | TXF                 | 8028                | 4                   | \n",
       "| 2016-08-04 10:46:43 | MXF                 | 8032                | 5                   | \n",
       "| 2016-08-04 10:46:43 | EXF                 |  319                | 4                   | \n",
       "| 2016-08-04 10:46:43 | FXF                 | 1025                | 4                   | \n",
       "\n",
       "\n"
      ],
      "text/plain": [
       "   time                ID  price volume\n",
       "1  2016-08-04 10:46:41 TXF 8026  3     \n",
       "2  2016-08-04 10:46:41 MXF 8028  3     \n",
       "3  2016-08-04 10:46:41 EXF  326  2     \n",
       "4  2016-08-04 10:46:41 FXF 1024  4     \n",
       "5  2016-08-04 10:46:42 TXF 8026  4     \n",
       "6  2016-08-04 10:46:42 MXF 8026  3     \n",
       "7  2016-08-04 10:46:42 EXF  323  3     \n",
       "8  2016-08-04 10:46:42 FXF 1027  3     \n",
       "9  2016-08-04 10:46:43 TXF 8028  4     \n",
       "10 2016-08-04 10:46:43 MXF 8032  5     \n",
       "11 2016-08-04 10:46:43 EXF  319  4     \n",
       "12 2016-08-04 10:46:43 FXF 1025  4     "
      ]
     },
     "metadata": {},
     "output_type": "display_data"
    }
   ],
   "source": [
    "data <- data.frame(time = as.POSIXct(rep(10^4+1:3, each=4), origin=\"2016-08-04\"),\n",
    "ID=rep(c(\"TXF\",\"MXF\",\"EXF\",\"FXF\"), 3),price = rep(c(8000,8000,300,1000),3)\n",
    "+rbinom(12,50,0.5), volume = 1+rbinom(12,5,0.5))\n",
    "data"
   ]
  },
  {
   "cell_type": "markdown",
   "metadata": {},
   "source": [
    "寬資料一直不是很喜歡這個命名"
   ]
  },
  {
   "cell_type": "code",
   "execution_count": 9,
   "metadata": {},
   "outputs": [
    {
     "data": {
      "text/html": [
       "<table>\n",
       "<thead><tr><th scope=col>time</th><th scope=col>EXF</th><th scope=col>FXF</th><th scope=col>MXF</th><th scope=col>TXF</th></tr></thead>\n",
       "<tbody>\n",
       "\t<tr><td>2016-08-04 10:46:41</td><td>2                  </td><td>4                  </td><td>3                  </td><td>3                  </td></tr>\n",
       "\t<tr><td>2016-08-04 10:46:42</td><td>3                  </td><td>3                  </td><td>3                  </td><td>4                  </td></tr>\n",
       "\t<tr><td>2016-08-04 10:46:43</td><td>4                  </td><td>4                  </td><td>5                  </td><td>4                  </td></tr>\n",
       "</tbody>\n",
       "</table>\n"
      ],
      "text/latex": [
       "\\begin{tabular}{r|lllll}\n",
       " time & EXF & FXF & MXF & TXF\\\\\n",
       "\\hline\n",
       "\t 2016-08-04 10:46:41 & 2                   & 4                   & 3                   & 3                  \\\\\n",
       "\t 2016-08-04 10:46:42 & 3                   & 3                   & 3                   & 4                  \\\\\n",
       "\t 2016-08-04 10:46:43 & 4                   & 4                   & 5                   & 4                  \\\\\n",
       "\\end{tabular}\n"
      ],
      "text/markdown": [
       "\n",
       "time | EXF | FXF | MXF | TXF | \n",
       "|---|---|---|\n",
       "| 2016-08-04 10:46:41 | 2                   | 4                   | 3                   | 3                   | \n",
       "| 2016-08-04 10:46:42 | 3                   | 3                   | 3                   | 4                   | \n",
       "| 2016-08-04 10:46:43 | 4                   | 4                   | 5                   | 4                   | \n",
       "\n",
       "\n"
      ],
      "text/plain": [
       "  time                EXF FXF MXF TXF\n",
       "1 2016-08-04 10:46:41 2   4   3   3  \n",
       "2 2016-08-04 10:46:42 3   3   3   4  \n",
       "3 2016-08-04 10:46:43 4   4   5   4  "
      ]
     },
     "metadata": {},
     "output_type": "display_data"
    }
   ],
   "source": [
    "Wdata<-dcast(data, formula = time ~ ID, value.var = c(\"volume\"))\n",
    "Wdata"
   ]
  },
  {
   "cell_type": "code",
   "execution_count": 11,
   "metadata": {},
   "outputs": [
    {
     "data": {
      "text/html": [
       "<table>\n",
       "<thead><tr><th scope=col>time</th><th scope=col>ID</th><th scope=col>volume</th></tr></thead>\n",
       "<tbody>\n",
       "\t<tr><td>2016-08-04 10:46:41</td><td>EXF                </td><td>2                  </td></tr>\n",
       "\t<tr><td>2016-08-04 10:46:42</td><td>EXF                </td><td>3                  </td></tr>\n",
       "\t<tr><td>2016-08-04 10:46:43</td><td>EXF                </td><td>4                  </td></tr>\n",
       "\t<tr><td>2016-08-04 10:46:41</td><td>FXF                </td><td>4                  </td></tr>\n",
       "\t<tr><td>2016-08-04 10:46:42</td><td>FXF                </td><td>3                  </td></tr>\n",
       "\t<tr><td>2016-08-04 10:46:43</td><td>FXF                </td><td>4                  </td></tr>\n",
       "\t<tr><td>2016-08-04 10:46:41</td><td>MXF                </td><td>3                  </td></tr>\n",
       "\t<tr><td>2016-08-04 10:46:42</td><td>MXF                </td><td>3                  </td></tr>\n",
       "\t<tr><td>2016-08-04 10:46:43</td><td>MXF                </td><td>5                  </td></tr>\n",
       "\t<tr><td>2016-08-04 10:46:41</td><td>TXF                </td><td>3                  </td></tr>\n",
       "\t<tr><td>2016-08-04 10:46:42</td><td>TXF                </td><td>4                  </td></tr>\n",
       "\t<tr><td>2016-08-04 10:46:43</td><td>TXF                </td><td>4                  </td></tr>\n",
       "</tbody>\n",
       "</table>\n"
      ],
      "text/latex": [
       "\\begin{tabular}{r|lll}\n",
       " time & ID & volume\\\\\n",
       "\\hline\n",
       "\t 2016-08-04 10:46:41 & EXF                 & 2                  \\\\\n",
       "\t 2016-08-04 10:46:42 & EXF                 & 3                  \\\\\n",
       "\t 2016-08-04 10:46:43 & EXF                 & 4                  \\\\\n",
       "\t 2016-08-04 10:46:41 & FXF                 & 4                  \\\\\n",
       "\t 2016-08-04 10:46:42 & FXF                 & 3                  \\\\\n",
       "\t 2016-08-04 10:46:43 & FXF                 & 4                  \\\\\n",
       "\t 2016-08-04 10:46:41 & MXF                 & 3                  \\\\\n",
       "\t 2016-08-04 10:46:42 & MXF                 & 3                  \\\\\n",
       "\t 2016-08-04 10:46:43 & MXF                 & 5                  \\\\\n",
       "\t 2016-08-04 10:46:41 & TXF                 & 3                  \\\\\n",
       "\t 2016-08-04 10:46:42 & TXF                 & 4                  \\\\\n",
       "\t 2016-08-04 10:46:43 & TXF                 & 4                  \\\\\n",
       "\\end{tabular}\n"
      ],
      "text/markdown": [
       "\n",
       "time | ID | volume | \n",
       "|---|---|---|---|---|---|---|---|---|---|---|---|\n",
       "| 2016-08-04 10:46:41 | EXF                 | 2                   | \n",
       "| 2016-08-04 10:46:42 | EXF                 | 3                   | \n",
       "| 2016-08-04 10:46:43 | EXF                 | 4                   | \n",
       "| 2016-08-04 10:46:41 | FXF                 | 4                   | \n",
       "| 2016-08-04 10:46:42 | FXF                 | 3                   | \n",
       "| 2016-08-04 10:46:43 | FXF                 | 4                   | \n",
       "| 2016-08-04 10:46:41 | MXF                 | 3                   | \n",
       "| 2016-08-04 10:46:42 | MXF                 | 3                   | \n",
       "| 2016-08-04 10:46:43 | MXF                 | 5                   | \n",
       "| 2016-08-04 10:46:41 | TXF                 | 3                   | \n",
       "| 2016-08-04 10:46:42 | TXF                 | 4                   | \n",
       "| 2016-08-04 10:46:43 | TXF                 | 4                   | \n",
       "\n",
       "\n"
      ],
      "text/plain": [
       "   time                ID  volume\n",
       "1  2016-08-04 10:46:41 EXF 2     \n",
       "2  2016-08-04 10:46:42 EXF 3     \n",
       "3  2016-08-04 10:46:43 EXF 4     \n",
       "4  2016-08-04 10:46:41 FXF 4     \n",
       "5  2016-08-04 10:46:42 FXF 3     \n",
       "6  2016-08-04 10:46:43 FXF 4     \n",
       "7  2016-08-04 10:46:41 MXF 3     \n",
       "8  2016-08-04 10:46:42 MXF 3     \n",
       "9  2016-08-04 10:46:43 MXF 5     \n",
       "10 2016-08-04 10:46:41 TXF 3     \n",
       "11 2016-08-04 10:46:42 TXF 4     \n",
       "12 2016-08-04 10:46:43 TXF 4     "
      ]
     },
     "metadata": {},
     "output_type": "display_data"
    }
   ],
   "source": [
    "ldata<-melt(Wdata, id.vars =c(\"time\"), variable.name = \"ID\", value.name = \"volume\")\n",
    "ldata"
   ]
  },
  {
   "cell_type": "code",
   "execution_count": 23,
   "metadata": {},
   "outputs": [
    {
     "data": {
      "text/html": [
       "<table>\n",
       "<thead><tr><th scope=col>ID</th><th scope=col>volume</th></tr></thead>\n",
       "<tbody>\n",
       "\t<tr><td>TXF</td><td>3  </td></tr>\n",
       "\t<tr><td>MXF</td><td>3  </td></tr>\n",
       "\t<tr><td>EXF</td><td>2  </td></tr>\n",
       "\t<tr><td>FXF</td><td>4  </td></tr>\n",
       "\t<tr><td>TXF</td><td>4  </td></tr>\n",
       "\t<tr><td>MXF</td><td>3  </td></tr>\n",
       "\t<tr><td>EXF</td><td>3  </td></tr>\n",
       "\t<tr><td>FXF</td><td>3  </td></tr>\n",
       "\t<tr><td>TXF</td><td>4  </td></tr>\n",
       "\t<tr><td>MXF</td><td>5  </td></tr>\n",
       "\t<tr><td>EXF</td><td>4  </td></tr>\n",
       "\t<tr><td>FXF</td><td>4  </td></tr>\n",
       "</tbody>\n",
       "</table>\n"
      ],
      "text/latex": [
       "\\begin{tabular}{r|ll}\n",
       " ID & volume\\\\\n",
       "\\hline\n",
       "\t TXF & 3  \\\\\n",
       "\t MXF & 3  \\\\\n",
       "\t EXF & 2  \\\\\n",
       "\t FXF & 4  \\\\\n",
       "\t TXF & 4  \\\\\n",
       "\t MXF & 3  \\\\\n",
       "\t EXF & 3  \\\\\n",
       "\t FXF & 3  \\\\\n",
       "\t TXF & 4  \\\\\n",
       "\t MXF & 5  \\\\\n",
       "\t EXF & 4  \\\\\n",
       "\t FXF & 4  \\\\\n",
       "\\end{tabular}\n"
      ],
      "text/markdown": [
       "\n",
       "ID | volume | \n",
       "|---|---|---|---|---|---|---|---|---|---|---|---|\n",
       "| TXF | 3   | \n",
       "| MXF | 3   | \n",
       "| EXF | 2   | \n",
       "| FXF | 4   | \n",
       "| TXF | 4   | \n",
       "| MXF | 3   | \n",
       "| EXF | 3   | \n",
       "| FXF | 3   | \n",
       "| TXF | 4   | \n",
       "| MXF | 5   | \n",
       "| EXF | 4   | \n",
       "| FXF | 4   | \n",
       "\n",
       "\n"
      ],
      "text/plain": [
       "   ID  volume\n",
       "1  TXF 3     \n",
       "2  MXF 3     \n",
       "3  EXF 2     \n",
       "4  FXF 4     \n",
       "5  TXF 4     \n",
       "6  MXF 3     \n",
       "7  EXF 3     \n",
       "8  FXF 3     \n",
       "9  TXF 4     \n",
       "10 MXF 5     \n",
       "11 EXF 4     \n",
       "12 FXF 4     "
      ]
     },
     "metadata": {},
     "output_type": "display_data"
    }
   ],
   "source": [
    "library(dplyr)\n",
    "data2<-select(data,\"ID\",\"volume\")\n",
    "data2"
   ]
  },
  {
   "cell_type": "code",
   "execution_count": 24,
   "metadata": {},
   "outputs": [
    {
     "data": {
      "text/html": [
       "<table>\n",
       "<thead><tr><th scope=col>ID</th><th scope=col>volume</th></tr></thead>\n",
       "<tbody>\n",
       "\t<tr><td>EXF</td><td> 9 </td></tr>\n",
       "\t<tr><td>FXF</td><td>11 </td></tr>\n",
       "\t<tr><td>MXF</td><td>11 </td></tr>\n",
       "\t<tr><td>TXF</td><td>11 </td></tr>\n",
       "</tbody>\n",
       "</table>\n"
      ],
      "text/latex": [
       "\\begin{tabular}{r|ll}\n",
       " ID & volume\\\\\n",
       "\\hline\n",
       "\t EXF &  9 \\\\\n",
       "\t FXF & 11 \\\\\n",
       "\t MXF & 11 \\\\\n",
       "\t TXF & 11 \\\\\n",
       "\\end{tabular}\n"
      ],
      "text/markdown": [
       "\n",
       "ID | volume | \n",
       "|---|---|---|---|\n",
       "| EXF |  9  | \n",
       "| FXF | 11  | \n",
       "| MXF | 11  | \n",
       "| TXF | 11  | \n",
       "\n",
       "\n"
      ],
      "text/plain": [
       "  ID  volume\n",
       "1 EXF  9    \n",
       "2 FXF 11    \n",
       "3 MXF 11    \n",
       "4 TXF 11    "
      ]
     },
     "metadata": {},
     "output_type": "display_data"
    }
   ],
   "source": [
    "data2<-group_by(data2,ID=data2$ID)%>%\n",
    "summarise(volume=sum(volume))\n",
    "data2"
   ]
  }
 ],
 "metadata": {
  "kernelspec": {
   "display_name": "R",
   "language": "R",
   "name": "ir"
  },
  "language_info": {
   "codemirror_mode": "r",
   "file_extension": ".r",
   "mimetype": "text/x-r-source",
   "name": "R",
   "pygments_lexer": "r",
   "version": "3.4.3"
  }
 },
 "nbformat": 4,
 "nbformat_minor": 2
}
