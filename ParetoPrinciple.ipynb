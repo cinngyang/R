{
 "cells": [
  {
   "cell_type": "markdown",
   "metadata": {},
   "source": [
    "+ 80/20 法則\n",
    "+ 技巧 dplyr & ggplot2 \n",
    "+ 計算百分比與累計百分比 prop.table() &cumsum()"
   ]
  },
  {
   "cell_type": "code",
   "execution_count": 52,
   "metadata": {},
   "outputs": [],
   "source": [
    "INV<-read.csv(file='MONO.csv')"
   ]
  },
  {
   "cell_type": "code",
   "execution_count": 51,
   "metadata": {},
   "outputs": [],
   "source": [
    "#write.csv(INV,file='MONO.csv')"
   ]
  },
  {
   "cell_type": "code",
   "execution_count": 53,
   "metadata": {},
   "outputs": [
    {
     "name": "stdout",
     "output_type": "stream",
     "text": [
      "'data.frame':\t1998 obs. of  9 variables:\n",
      " $ X          : int  1 2 3 4 5 6 7 8 9 10 ...\n",
      " $ ORG        : Factor w/ 2 levels \"X1\",\"X2\": 1 1 1 1 1 1 1 1 1 1 ...\n",
      " $ MODEL_GROUP: Factor w/ 39 levels \"101608\",\"131306\",..: 17 28 32 31 28 27 1 19 28 27 ...\n",
      " $ MODEL_NAME : Factor w/ 141 levels \"XC20N04.E\",\"XC20N04.V\",..: 91 107 133 126 110 119 53 9 115 119 ...\n",
      " $ YEAR       : int  2000 2000 2000 2000 2000 2000 2000 2000 2000 2000 ...\n",
      " $ MONTH      : int  1 1 1 1 1 1 1 1 1 1 ...\n",
      " $ MONO       : Factor w/ 1451 levels \"M71709-025AYCW01\",..: 128 178 325 327 183 189 357 361 369 22 ...\n",
      " $ QTY        : int  499727 426999 2000 52999 620000 118000 84500 134000 62000 999 ...\n",
      " $ PRODUCT    : Factor w/ 163 levels \"00.C2016.16D100M\",..: 94 143 158 148 144 120 62 9 137 120 ...\n"
     ]
    }
   ],
   "source": [
    "str(INV)"
   ]
  },
  {
   "cell_type": "markdown",
   "metadata": {},
   "source": [
    "+ XX 公司 X1 與 X2廠生產資料\n",
    "+ 生產 39 MODEL_GROUP , 141 MODEL_NAME , 163 PRODUCT , 1451 MONO\n",
    "+ 投產工單概況"
   ]
  },
  {
   "cell_type": "code",
   "execution_count": 42,
   "metadata": {},
   "outputs": [
    {
     "data": {
      "text/plain": [
       "    Min.  1st Qu.   Median     Mean  3rd Qu.     Max. \n",
       "     119    36000   121986   387263   405000 15733477 "
      ]
     },
     "metadata": {},
     "output_type": "display_data"
    }
   ],
   "source": [
    "summary(INV$QTY)"
   ]
  },
  {
   "cell_type": "markdown",
   "metadata": {},
   "source": [
    "+ 以 MODEL 統計\n",
    "+ 載入Package\n",
    "+ MODEL_GROUP 群組 \n",
    "+ 拆分產品類型從新命名 , ModelName 第2碼為產品簡碼對應"
   ]
  },
  {
   "cell_type": "code",
   "execution_count": 45,
   "metadata": {},
   "outputs": [],
   "source": [
    "library(ggplot2)\n",
    "library(dplyr)\n",
    "library()"
   ]
  },
  {
   "cell_type": "code",
   "execution_count": 64,
   "metadata": {},
   "outputs": [],
   "source": [
    "#ModelName 第2碼為產品簡碼對應\n",
    "INV$PRODUCT_TYPE<-substr(INV$MODEL_NAME,2,2)"
   ]
  },
  {
   "cell_type": "code",
   "execution_count": 65,
   "metadata": {},
   "outputs": [],
   "source": [
    "INV.Sum<-group_by(INV,ORG,PRODUCT_TYPE)%>%\n",
    "summarise(MOCount=n(),QTY=sum(QTY))"
   ]
  },
  {
   "cell_type": "code",
   "execution_count": 66,
   "metadata": {},
   "outputs": [
    {
     "data": {},
     "metadata": {},
     "output_type": "display_data"
    },
    {
     "data": {
      "image/png": "[encoded data removed]",
      "text/plain": [
       "plot without title"
      ]
     },
     "metadata": {},
     "output_type": "display_data"
    }
   ],
   "source": [
    "g<-ggplot(data=INV, aes(x=PRODUCT_TYPE,y=QTY))\n",
    "g+geom_boxplot(aes(fill=ORG))+\n",
    "theme(axis.text.x = element_text(angle = 90, hjust = 1))"
   ]
  },
  {
   "cell_type": "markdown",
   "metadata": {},
   "source": [
    "+ S 產品最多取 S 產品分析"
   ]
  },
  {
   "cell_type": "code",
   "execution_count": 67,
   "metadata": {},
   "outputs": [],
   "source": [
    "S.Product<-filter(INV,PRODUCT_TYPE==\"C\")%>%\n",
    "group_by(MODEL_NAME)%>%\n",
    "summarise(Model.Count=n(),Qty=sum(QTY))"
   ]
  },
  {
   "cell_type": "markdown",
   "metadata": {},
   "source": [
    "+ 計算百分比與累計百分比"
   ]
  },
  {
   "cell_type": "code",
   "execution_count": 70,
   "metadata": {},
   "outputs": [
    {
     "data": {
      "text/html": [
       "12"
      ],
      "text/latex": [
       "12"
      ],
      "text/markdown": [
       "12"
      ],
      "text/plain": [
       "[1] 12"
      ]
     },
     "metadata": {},
     "output_type": "display_data"
    }
   ],
   "source": [
    "S.Product$Percent<-prop.table(S.Product$Qty)\n",
    "S.Product<-arrange(S.Product,desc(Percent))\n",
    "S.Product$cumPercent<-cumsum(S.Product$Percent)\n",
    "length(S.Product$MODEL_NAME)"
   ]
  },
  {
   "cell_type": "code",
   "execution_count": 71,
   "metadata": {},
   "outputs": [],
   "source": [
    "S.Product<-mutate(S.Product,new.id=1:12)"
   ]
  },
  {
   "cell_type": "code",
   "execution_count": 72,
   "metadata": {},
   "outputs": [
    {
     "name": "stdout",
     "output_type": "stream",
     "text": [
      "Classes 'tbl_df', 'tbl' and 'data.frame':\t12 obs. of  6 variables:\n",
      " $ MODEL_NAME : Factor w/ 141 levels \"XC20N04.E\",\"XC20N04.V\",..: 6 5 3 9 1 4 10 11 12 8 ...\n",
      " $ Model.Count: int  5 2 1 2 6 2 3 2 1 1 ...\n",
      " $ Qty        : int  1890000 337000 296000 186500 161000 127000 106000 58125 47500 41500 ...\n",
      " $ Percent    : num  0.5756 0.1026 0.0901 0.0568 0.049 ...\n",
      " $ cumPercent : num  0.576 0.678 0.768 0.825 0.874 ...\n",
      " $ new.id     : int  1 2 3 4 5 6 7 8 9 10 ...\n"
     ]
    }
   ],
   "source": [
    "str(S.Product)"
   ]
  },
  {
   "cell_type": "code",
   "execution_count": 73,
   "metadata": {},
   "outputs": [
    {
     "data": {},
     "metadata": {},
     "output_type": "display_data"
    },
    {
     "data": {
      "image/png": "[encoded data removed]",
      "text/plain": [
       "plot without title"
      ]
     },
     "metadata": {},
     "output_type": "display_data"
    }
   ],
   "source": [
    "# 累計百分比圖\n",
    "g<-ggplot(data=S.Product, aes(x=new.id,y=Percent))\n",
    "g+geom_bar(aes(), stat= 'identity')+\n",
    "  geom_line(aes(new.id,cumPercent))+\n",
    "  scale_x_continuous(breaks = 1:12,labels = S.Product$MODEL_NAME)+\n",
    "  theme(axis.text.x = element_text(angle = 90, hjust = 1))\n"
   ]
  }
 ],
 "metadata": {
  "kernelspec": {
   "display_name": "R",
   "language": "R",
   "name": "ir"
  },
  "language_info": {
   "codemirror_mode": "r",
   "file_extension": ".r",
   "mimetype": "text/x-r-source",
   "name": "R",
   "pygments_lexer": "r",
   "version": "3.4.1"
  }
 },
 "nbformat": 4,
 "nbformat_minor": 2
}
